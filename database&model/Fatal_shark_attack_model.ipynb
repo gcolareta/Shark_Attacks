{
  "cells": [
    {
      "cell_type": "code",
      "execution_count": 8,
      "metadata": {
        "id": "ABlJ2kX_ogH3"
      },
      "outputs": [],
      "source": [
        "import numpy as np\n",
        "import pandas as pd\n",
        "from pathlib import Path\n",
        "from collections import Counter"
      ]
    },
    {
      "cell_type": "code",
      "execution_count": 11,
      "metadata": {
        "id": "gmNy3WZ_q_gC"
      },
      "outputs": [],
      "source": [
        "from sklearn.metrics import balanced_accuracy_score\n",
        "from sklearn.metrics import confusion_matrix\n",
        "from imblearn.metrics import classification_report_imbalanced\n",
        "from sklearn.ensemble import RandomForestClassifier\n",
        "from sklearn.metrics import accuracy_score\n",
        "from sklearn.model_selection import train_test_split\n",
        "from sklearn.linear_model import LogisticRegression\n",
        "from sklearn.metrics import ConfusionMatrixDisplay"
      ]
    },
    {
      "cell_type": "markdown",
      "metadata": {
        "id": "UJ724XrXrQIG"
      },
      "source": [
        "##Read the CSV and Perform Basic Data Cleaning"
      ]
    },
    {
      "cell_type": "code",
      "execution_count": 12,
      "metadata": {
        "colab": {
          "base_uri": "https://localhost:8080/",
          "height": 74
        },
        "id": "C0uh_K7zSbPs",
        "outputId": "b2f2bf60-02a9-43a6-c7ee-f0a5f46fbd56"
      },
      "outputs": [
        {
          "output_type": "display_data",
          "data": {
            "text/plain": [
              "<IPython.core.display.HTML object>"
            ],
            "text/html": [
              "\n",
              "     <input type=\"file\" id=\"files-f5e26571-a990-4f55-8e55-c0d1745ef48c\" name=\"files[]\" multiple disabled\n",
              "        style=\"border:none\" />\n",
              "     <output id=\"result-f5e26571-a990-4f55-8e55-c0d1745ef48c\">\n",
              "      Upload widget is only available when the cell has been executed in the\n",
              "      current browser session. Please rerun this cell to enable.\n",
              "      </output>\n",
              "      <script>// Copyright 2017 Google LLC\n",
              "//\n",
              "// Licensed under the Apache License, Version 2.0 (the \"License\");\n",
              "// you may not use this file except in compliance with the License.\n",
              "// You may obtain a copy of the License at\n",
              "//\n",
              "//      http://www.apache.org/licenses/LICENSE-2.0\n",
              "//\n",
              "// Unless required by applicable law or agreed to in writing, software\n",
              "// distributed under the License is distributed on an \"AS IS\" BASIS,\n",
              "// WITHOUT WARRANTIES OR CONDITIONS OF ANY KIND, either express or implied.\n",
              "// See the License for the specific language governing permissions and\n",
              "// limitations under the License.\n",
              "\n",
              "/**\n",
              " * @fileoverview Helpers for google.colab Python module.\n",
              " */\n",
              "(function(scope) {\n",
              "function span(text, styleAttributes = {}) {\n",
              "  const element = document.createElement('span');\n",
              "  element.textContent = text;\n",
              "  for (const key of Object.keys(styleAttributes)) {\n",
              "    element.style[key] = styleAttributes[key];\n",
              "  }\n",
              "  return element;\n",
              "}\n",
              "\n",
              "// Max number of bytes which will be uploaded at a time.\n",
              "const MAX_PAYLOAD_SIZE = 100 * 1024;\n",
              "\n",
              "function _uploadFiles(inputId, outputId) {\n",
              "  const steps = uploadFilesStep(inputId, outputId);\n",
              "  const outputElement = document.getElementById(outputId);\n",
              "  // Cache steps on the outputElement to make it available for the next call\n",
              "  // to uploadFilesContinue from Python.\n",
              "  outputElement.steps = steps;\n",
              "\n",
              "  return _uploadFilesContinue(outputId);\n",
              "}\n",
              "\n",
              "// This is roughly an async generator (not supported in the browser yet),\n",
              "// where there are multiple asynchronous steps and the Python side is going\n",
              "// to poll for completion of each step.\n",
              "// This uses a Promise to block the python side on completion of each step,\n",
              "// then passes the result of the previous step as the input to the next step.\n",
              "function _uploadFilesContinue(outputId) {\n",
              "  const outputElement = document.getElementById(outputId);\n",
              "  const steps = outputElement.steps;\n",
              "\n",
              "  const next = steps.next(outputElement.lastPromiseValue);\n",
              "  return Promise.resolve(next.value.promise).then((value) => {\n",
              "    // Cache the last promise value to make it available to the next\n",
              "    // step of the generator.\n",
              "    outputElement.lastPromiseValue = value;\n",
              "    return next.value.response;\n",
              "  });\n",
              "}\n",
              "\n",
              "/**\n",
              " * Generator function which is called between each async step of the upload\n",
              " * process.\n",
              " * @param {string} inputId Element ID of the input file picker element.\n",
              " * @param {string} outputId Element ID of the output display.\n",
              " * @return {!Iterable<!Object>} Iterable of next steps.\n",
              " */\n",
              "function* uploadFilesStep(inputId, outputId) {\n",
              "  const inputElement = document.getElementById(inputId);\n",
              "  inputElement.disabled = false;\n",
              "\n",
              "  const outputElement = document.getElementById(outputId);\n",
              "  outputElement.innerHTML = '';\n",
              "\n",
              "  const pickedPromise = new Promise((resolve) => {\n",
              "    inputElement.addEventListener('change', (e) => {\n",
              "      resolve(e.target.files);\n",
              "    });\n",
              "  });\n",
              "\n",
              "  const cancel = document.createElement('button');\n",
              "  inputElement.parentElement.appendChild(cancel);\n",
              "  cancel.textContent = 'Cancel upload';\n",
              "  const cancelPromise = new Promise((resolve) => {\n",
              "    cancel.onclick = () => {\n",
              "      resolve(null);\n",
              "    };\n",
              "  });\n",
              "\n",
              "  // Wait for the user to pick the files.\n",
              "  const files = yield {\n",
              "    promise: Promise.race([pickedPromise, cancelPromise]),\n",
              "    response: {\n",
              "      action: 'starting',\n",
              "    }\n",
              "  };\n",
              "\n",
              "  cancel.remove();\n",
              "\n",
              "  // Disable the input element since further picks are not allowed.\n",
              "  inputElement.disabled = true;\n",
              "\n",
              "  if (!files) {\n",
              "    return {\n",
              "      response: {\n",
              "        action: 'complete',\n",
              "      }\n",
              "    };\n",
              "  }\n",
              "\n",
              "  for (const file of files) {\n",
              "    const li = document.createElement('li');\n",
              "    li.append(span(file.name, {fontWeight: 'bold'}));\n",
              "    li.append(span(\n",
              "        `(${file.type || 'n/a'}) - ${file.size} bytes, ` +\n",
              "        `last modified: ${\n",
              "            file.lastModifiedDate ? file.lastModifiedDate.toLocaleDateString() :\n",
              "                                    'n/a'} - `));\n",
              "    const percent = span('0% done');\n",
              "    li.appendChild(percent);\n",
              "\n",
              "    outputElement.appendChild(li);\n",
              "\n",
              "    const fileDataPromise = new Promise((resolve) => {\n",
              "      const reader = new FileReader();\n",
              "      reader.onload = (e) => {\n",
              "        resolve(e.target.result);\n",
              "      };\n",
              "      reader.readAsArrayBuffer(file);\n",
              "    });\n",
              "    // Wait for the data to be ready.\n",
              "    let fileData = yield {\n",
              "      promise: fileDataPromise,\n",
              "      response: {\n",
              "        action: 'continue',\n",
              "      }\n",
              "    };\n",
              "\n",
              "    // Use a chunked sending to avoid message size limits. See b/62115660.\n",
              "    let position = 0;\n",
              "    do {\n",
              "      const length = Math.min(fileData.byteLength - position, MAX_PAYLOAD_SIZE);\n",
              "      const chunk = new Uint8Array(fileData, position, length);\n",
              "      position += length;\n",
              "\n",
              "      const base64 = btoa(String.fromCharCode.apply(null, chunk));\n",
              "      yield {\n",
              "        response: {\n",
              "          action: 'append',\n",
              "          file: file.name,\n",
              "          data: base64,\n",
              "        },\n",
              "      };\n",
              "\n",
              "      let percentDone = fileData.byteLength === 0 ?\n",
              "          100 :\n",
              "          Math.round((position / fileData.byteLength) * 100);\n",
              "      percent.textContent = `${percentDone}% done`;\n",
              "\n",
              "    } while (position < fileData.byteLength);\n",
              "  }\n",
              "\n",
              "  // All done.\n",
              "  yield {\n",
              "    response: {\n",
              "      action: 'complete',\n",
              "    }\n",
              "  };\n",
              "}\n",
              "\n",
              "scope.google = scope.google || {};\n",
              "scope.google.colab = scope.google.colab || {};\n",
              "scope.google.colab._files = {\n",
              "  _uploadFiles,\n",
              "  _uploadFilesContinue,\n",
              "};\n",
              "})(self);\n",
              "</script> "
            ]
          },
          "metadata": {}
        },
        {
          "output_type": "stream",
          "name": "stdout",
          "text": [
            "Saving df.csv to df (1).csv\n"
          ]
        }
      ],
      "source": [
        "# Load the data# Read in our ramen data\n",
        "from google.colab import files\n",
        "uploaded = files.upload()"
      ]
    },
    {
      "cell_type": "code",
      "execution_count": 14,
      "metadata": {
        "id": "9hS6H8chrLjR"
      },
      "outputs": [],
      "source": [
        "# Load the file\n",
        "df = pd.read_csv('df.csv')"
      ]
    },
    {
      "cell_type": "code",
      "source": [
        "df.head()"
      ],
      "metadata": {
        "colab": {
          "base_uri": "https://localhost:8080/",
          "height": 305
        },
        "id": "luK5WjfwGzvY",
        "outputId": "e4a8b496-1035-4d69-9d18-224a528d0cff"
      },
      "execution_count": 15,
      "outputs": [
        {
          "output_type": "execute_result",
          "data": {
            "text/plain": [
              "     Country  Year             Area         Activity Sex Age Fatal_Y_N  month  \\\n",
              "0        USA  2018          Georgia         Swimming   F  11         N      6   \n",
              "1  AUSTRALIA  2018  New South Wales  Boarding Sports   M   0         N      6   \n",
              "2  AUSTRALIA  2018  New South Wales  Boarding Sports   M   0         N      6   \n",
              "3     BRAZIL  2018       Pernambuco         Swimming   M  18         Y      6   \n",
              "4        USA  2018          Florida          Fishing   M  52         N      5   \n",
              "\n",
              "  hemisph  Season  \n",
              "0   North  summer  \n",
              "1   South  winter  \n",
              "2   South  winter  \n",
              "3   South  winter  \n",
              "4   North  spring  "
            ],
            "text/html": [
              "\n",
              "  <div id=\"df-c4de9796-67bc-4414-a660-34f377e3ce35\">\n",
              "    <div class=\"colab-df-container\">\n",
              "      <div>\n",
              "<style scoped>\n",
              "    .dataframe tbody tr th:only-of-type {\n",
              "        vertical-align: middle;\n",
              "    }\n",
              "\n",
              "    .dataframe tbody tr th {\n",
              "        vertical-align: top;\n",
              "    }\n",
              "\n",
              "    .dataframe thead th {\n",
              "        text-align: right;\n",
              "    }\n",
              "</style>\n",
              "<table border=\"1\" class=\"dataframe\">\n",
              "  <thead>\n",
              "    <tr style=\"text-align: right;\">\n",
              "      <th></th>\n",
              "      <th>Country</th>\n",
              "      <th>Year</th>\n",
              "      <th>Area</th>\n",
              "      <th>Activity</th>\n",
              "      <th>Sex</th>\n",
              "      <th>Age</th>\n",
              "      <th>Fatal_Y_N</th>\n",
              "      <th>month</th>\n",
              "      <th>hemisph</th>\n",
              "      <th>Season</th>\n",
              "    </tr>\n",
              "  </thead>\n",
              "  <tbody>\n",
              "    <tr>\n",
              "      <th>0</th>\n",
              "      <td>USA</td>\n",
              "      <td>2018</td>\n",
              "      <td>Georgia</td>\n",
              "      <td>Swimming</td>\n",
              "      <td>F</td>\n",
              "      <td>11</td>\n",
              "      <td>N</td>\n",
              "      <td>6</td>\n",
              "      <td>North</td>\n",
              "      <td>summer</td>\n",
              "    </tr>\n",
              "    <tr>\n",
              "      <th>1</th>\n",
              "      <td>AUSTRALIA</td>\n",
              "      <td>2018</td>\n",
              "      <td>New South Wales</td>\n",
              "      <td>Boarding Sports</td>\n",
              "      <td>M</td>\n",
              "      <td>0</td>\n",
              "      <td>N</td>\n",
              "      <td>6</td>\n",
              "      <td>South</td>\n",
              "      <td>winter</td>\n",
              "    </tr>\n",
              "    <tr>\n",
              "      <th>2</th>\n",
              "      <td>AUSTRALIA</td>\n",
              "      <td>2018</td>\n",
              "      <td>New South Wales</td>\n",
              "      <td>Boarding Sports</td>\n",
              "      <td>M</td>\n",
              "      <td>0</td>\n",
              "      <td>N</td>\n",
              "      <td>6</td>\n",
              "      <td>South</td>\n",
              "      <td>winter</td>\n",
              "    </tr>\n",
              "    <tr>\n",
              "      <th>3</th>\n",
              "      <td>BRAZIL</td>\n",
              "      <td>2018</td>\n",
              "      <td>Pernambuco</td>\n",
              "      <td>Swimming</td>\n",
              "      <td>M</td>\n",
              "      <td>18</td>\n",
              "      <td>Y</td>\n",
              "      <td>6</td>\n",
              "      <td>South</td>\n",
              "      <td>winter</td>\n",
              "    </tr>\n",
              "    <tr>\n",
              "      <th>4</th>\n",
              "      <td>USA</td>\n",
              "      <td>2018</td>\n",
              "      <td>Florida</td>\n",
              "      <td>Fishing</td>\n",
              "      <td>M</td>\n",
              "      <td>52</td>\n",
              "      <td>N</td>\n",
              "      <td>5</td>\n",
              "      <td>North</td>\n",
              "      <td>spring</td>\n",
              "    </tr>\n",
              "  </tbody>\n",
              "</table>\n",
              "</div>\n",
              "      <button class=\"colab-df-convert\" onclick=\"convertToInteractive('df-c4de9796-67bc-4414-a660-34f377e3ce35')\"\n",
              "              title=\"Convert this dataframe to an interactive table.\"\n",
              "              style=\"display:none;\">\n",
              "        \n",
              "  <svg xmlns=\"http://www.w3.org/2000/svg\" height=\"24px\"viewBox=\"0 0 24 24\"\n",
              "       width=\"24px\">\n",
              "    <path d=\"M0 0h24v24H0V0z\" fill=\"none\"/>\n",
              "    <path d=\"M18.56 5.44l.94 2.06.94-2.06 2.06-.94-2.06-.94-.94-2.06-.94 2.06-2.06.94zm-11 1L8.5 8.5l.94-2.06 2.06-.94-2.06-.94L8.5 2.5l-.94 2.06-2.06.94zm10 10l.94 2.06.94-2.06 2.06-.94-2.06-.94-.94-2.06-.94 2.06-2.06.94z\"/><path d=\"M17.41 7.96l-1.37-1.37c-.4-.4-.92-.59-1.43-.59-.52 0-1.04.2-1.43.59L10.3 9.45l-7.72 7.72c-.78.78-.78 2.05 0 2.83L4 21.41c.39.39.9.59 1.41.59.51 0 1.02-.2 1.41-.59l7.78-7.78 2.81-2.81c.8-.78.8-2.07 0-2.86zM5.41 20L4 18.59l7.72-7.72 1.47 1.35L5.41 20z\"/>\n",
              "  </svg>\n",
              "      </button>\n",
              "      \n",
              "  <style>\n",
              "    .colab-df-container {\n",
              "      display:flex;\n",
              "      flex-wrap:wrap;\n",
              "      gap: 12px;\n",
              "    }\n",
              "\n",
              "    .colab-df-convert {\n",
              "      background-color: #E8F0FE;\n",
              "      border: none;\n",
              "      border-radius: 50%;\n",
              "      cursor: pointer;\n",
              "      display: none;\n",
              "      fill: #1967D2;\n",
              "      height: 32px;\n",
              "      padding: 0 0 0 0;\n",
              "      width: 32px;\n",
              "    }\n",
              "\n",
              "    .colab-df-convert:hover {\n",
              "      background-color: #E2EBFA;\n",
              "      box-shadow: 0px 1px 2px rgba(60, 64, 67, 0.3), 0px 1px 3px 1px rgba(60, 64, 67, 0.15);\n",
              "      fill: #174EA6;\n",
              "    }\n",
              "\n",
              "    [theme=dark] .colab-df-convert {\n",
              "      background-color: #3B4455;\n",
              "      fill: #D2E3FC;\n",
              "    }\n",
              "\n",
              "    [theme=dark] .colab-df-convert:hover {\n",
              "      background-color: #434B5C;\n",
              "      box-shadow: 0px 1px 3px 1px rgba(0, 0, 0, 0.15);\n",
              "      filter: drop-shadow(0px 1px 2px rgba(0, 0, 0, 0.3));\n",
              "      fill: #FFFFFF;\n",
              "    }\n",
              "  </style>\n",
              "\n",
              "      <script>\n",
              "        const buttonEl =\n",
              "          document.querySelector('#df-c4de9796-67bc-4414-a660-34f377e3ce35 button.colab-df-convert');\n",
              "        buttonEl.style.display =\n",
              "          google.colab.kernel.accessAllowed ? 'block' : 'none';\n",
              "\n",
              "        async function convertToInteractive(key) {\n",
              "          const element = document.querySelector('#df-c4de9796-67bc-4414-a660-34f377e3ce35');\n",
              "          const dataTable =\n",
              "            await google.colab.kernel.invokeFunction('convertToInteractive',\n",
              "                                                     [key], {});\n",
              "          if (!dataTable) return;\n",
              "\n",
              "          const docLinkHtml = 'Like what you see? Visit the ' +\n",
              "            '<a target=\"_blank\" href=https://colab.research.google.com/notebooks/data_table.ipynb>data table notebook</a>'\n",
              "            + ' to learn more about interactive tables.';\n",
              "          element.innerHTML = '';\n",
              "          dataTable['output_type'] = 'display_data';\n",
              "          await google.colab.output.renderOutput(dataTable, element);\n",
              "          const docLink = document.createElement('div');\n",
              "          docLink.innerHTML = docLinkHtml;\n",
              "          element.appendChild(docLink);\n",
              "        }\n",
              "      </script>\n",
              "    </div>\n",
              "  </div>\n",
              "  "
            ]
          },
          "metadata": {},
          "execution_count": 15
        }
      ]
    },
    {
      "cell_type": "code",
      "source": [
        "df.info()"
      ],
      "metadata": {
        "colab": {
          "base_uri": "https://localhost:8080/"
        },
        "id": "ZYjGQpzCG5DN",
        "outputId": "6df79978-6592-4b89-a63f-458010314a48"
      },
      "execution_count": 16,
      "outputs": [
        {
          "output_type": "stream",
          "name": "stdout",
          "text": [
            "<class 'pandas.core.frame.DataFrame'>\n",
            "RangeIndex: 1580 entries, 0 to 1579\n",
            "Data columns (total 10 columns):\n",
            " #   Column     Non-Null Count  Dtype \n",
            "---  ------     --------------  ----- \n",
            " 0   Country    1580 non-null   object\n",
            " 1   Year       1580 non-null   int64 \n",
            " 2   Area       1580 non-null   object\n",
            " 3   Activity   1580 non-null   object\n",
            " 4   Sex        1580 non-null   object\n",
            " 5   Age        1580 non-null   object\n",
            " 6   Fatal_Y_N  1580 non-null   object\n",
            " 7   month      1580 non-null   int64 \n",
            " 8   hemisph    1580 non-null   object\n",
            " 9   Season     1580 non-null   object\n",
            "dtypes: int64(2), object(8)\n",
            "memory usage: 123.6+ KB\n"
          ]
        }
      ]
    },
    {
      "cell_type": "code",
      "source": [
        "# drop rows where Fatal_Y_N = \"UNKNOWN\" \n",
        "df = df[~df['Fatal_Y_N'].str.contains('UNKNOWN')]"
      ],
      "metadata": {
        "id": "wRHGkXhZG9SD"
      },
      "execution_count": 17,
      "outputs": []
    },
    {
      "cell_type": "code",
      "source": [
        "df.info()"
      ],
      "metadata": {
        "colab": {
          "base_uri": "https://localhost:8080/"
        },
        "id": "z_dDd__dG-5s",
        "outputId": "eccb2edf-68f8-43e2-a51a-3c998a5ee7a0"
      },
      "execution_count": 18,
      "outputs": [
        {
          "output_type": "stream",
          "name": "stdout",
          "text": [
            "<class 'pandas.core.frame.DataFrame'>\n",
            "Int64Index: 1578 entries, 0 to 1579\n",
            "Data columns (total 10 columns):\n",
            " #   Column     Non-Null Count  Dtype \n",
            "---  ------     --------------  ----- \n",
            " 0   Country    1578 non-null   object\n",
            " 1   Year       1578 non-null   int64 \n",
            " 2   Area       1578 non-null   object\n",
            " 3   Activity   1578 non-null   object\n",
            " 4   Sex        1578 non-null   object\n",
            " 5   Age        1578 non-null   object\n",
            " 6   Fatal_Y_N  1578 non-null   object\n",
            " 7   month      1578 non-null   int64 \n",
            " 8   hemisph    1578 non-null   object\n",
            " 9   Season     1578 non-null   object\n",
            "dtypes: int64(2), object(8)\n",
            "memory usage: 135.6+ KB\n"
          ]
        }
      ]
    },
    {
      "cell_type": "code",
      "source": [
        "columns = [\n",
        "    'Country', 'Year', 'Area', 'Activity', 'Sex', 'Age', 'month', 'hemisph', 'Season'\n",
        "]\n",
        "\n",
        "target = ['Fatal_Y_N']"
      ],
      "metadata": {
        "id": "Seuq2PRAHFqP"
      },
      "execution_count": 19,
      "outputs": []
    },
    {
      "cell_type": "code",
      "source": [
        "columns_obj = df.select_dtypes(include='object').columns\n",
        "print(len(columns_obj))"
      ],
      "metadata": {
        "colab": {
          "base_uri": "https://localhost:8080/"
        },
        "id": "Z6vum1tOHIuV",
        "outputId": "4fea9565-183c-4ec1-ae94-01d3c0043e1b"
      },
      "execution_count": 20,
      "outputs": [
        {
          "output_type": "stream",
          "name": "stdout",
          "text": [
            "8\n"
          ]
        }
      ]
    },
    {
      "cell_type": "code",
      "source": [
        "df.shape"
      ],
      "metadata": {
        "colab": {
          "base_uri": "https://localhost:8080/"
        },
        "id": "TIOVJlLMHLVh",
        "outputId": "277114bd-eb34-48bc-b13c-b311c2bb1b25"
      },
      "execution_count": 21,
      "outputs": [
        {
          "output_type": "execute_result",
          "data": {
            "text/plain": [
              "(1578, 10)"
            ]
          },
          "metadata": {},
          "execution_count": 21
        }
      ]
    },
    {
      "cell_type": "markdown",
      "metadata": {
        "id": "8051nvSQruRj"
      },
      "source": [
        "##Split the Data into Training and Testing"
      ]
    },
    {
      "cell_type": "code",
      "source": [
        "# Create our features\n",
        "X = df.drop(columns= \"Fatal_Y_N\")\n",
        "X.shape"
      ],
      "metadata": {
        "colab": {
          "base_uri": "https://localhost:8080/"
        },
        "id": "LuXbWrILHQZN",
        "outputId": "0c661c1b-3d19-40dc-d190-0b43febee635"
      },
      "execution_count": 22,
      "outputs": [
        {
          "output_type": "execute_result",
          "data": {
            "text/plain": [
              "(1578, 9)"
            ]
          },
          "metadata": {},
          "execution_count": 22
        }
      ]
    },
    {
      "cell_type": "code",
      "execution_count": 23,
      "metadata": {
        "id": "HbuCG2Chrpou",
        "colab": {
          "base_uri": "https://localhost:8080/",
          "height": 424
        },
        "outputId": "d7ef378f-d2c7-4ab8-ebe4-18dbad038e04"
      },
      "outputs": [
        {
          "output_type": "execute_result",
          "data": {
            "text/plain": [
              "     Fatal_Y_N\n",
              "0            N\n",
              "1            N\n",
              "2            N\n",
              "3            Y\n",
              "4            N\n",
              "...        ...\n",
              "1575         N\n",
              "1576         N\n",
              "1577         N\n",
              "1578         N\n",
              "1579         N\n",
              "\n",
              "[1578 rows x 1 columns]"
            ],
            "text/html": [
              "\n",
              "  <div id=\"df-4d381736-d5a6-4f07-9044-853befaef92c\">\n",
              "    <div class=\"colab-df-container\">\n",
              "      <div>\n",
              "<style scoped>\n",
              "    .dataframe tbody tr th:only-of-type {\n",
              "        vertical-align: middle;\n",
              "    }\n",
              "\n",
              "    .dataframe tbody tr th {\n",
              "        vertical-align: top;\n",
              "    }\n",
              "\n",
              "    .dataframe thead th {\n",
              "        text-align: right;\n",
              "    }\n",
              "</style>\n",
              "<table border=\"1\" class=\"dataframe\">\n",
              "  <thead>\n",
              "    <tr style=\"text-align: right;\">\n",
              "      <th></th>\n",
              "      <th>Fatal_Y_N</th>\n",
              "    </tr>\n",
              "  </thead>\n",
              "  <tbody>\n",
              "    <tr>\n",
              "      <th>0</th>\n",
              "      <td>N</td>\n",
              "    </tr>\n",
              "    <tr>\n",
              "      <th>1</th>\n",
              "      <td>N</td>\n",
              "    </tr>\n",
              "    <tr>\n",
              "      <th>2</th>\n",
              "      <td>N</td>\n",
              "    </tr>\n",
              "    <tr>\n",
              "      <th>3</th>\n",
              "      <td>Y</td>\n",
              "    </tr>\n",
              "    <tr>\n",
              "      <th>4</th>\n",
              "      <td>N</td>\n",
              "    </tr>\n",
              "    <tr>\n",
              "      <th>...</th>\n",
              "      <td>...</td>\n",
              "    </tr>\n",
              "    <tr>\n",
              "      <th>1575</th>\n",
              "      <td>N</td>\n",
              "    </tr>\n",
              "    <tr>\n",
              "      <th>1576</th>\n",
              "      <td>N</td>\n",
              "    </tr>\n",
              "    <tr>\n",
              "      <th>1577</th>\n",
              "      <td>N</td>\n",
              "    </tr>\n",
              "    <tr>\n",
              "      <th>1578</th>\n",
              "      <td>N</td>\n",
              "    </tr>\n",
              "    <tr>\n",
              "      <th>1579</th>\n",
              "      <td>N</td>\n",
              "    </tr>\n",
              "  </tbody>\n",
              "</table>\n",
              "<p>1578 rows × 1 columns</p>\n",
              "</div>\n",
              "      <button class=\"colab-df-convert\" onclick=\"convertToInteractive('df-4d381736-d5a6-4f07-9044-853befaef92c')\"\n",
              "              title=\"Convert this dataframe to an interactive table.\"\n",
              "              style=\"display:none;\">\n",
              "        \n",
              "  <svg xmlns=\"http://www.w3.org/2000/svg\" height=\"24px\"viewBox=\"0 0 24 24\"\n",
              "       width=\"24px\">\n",
              "    <path d=\"M0 0h24v24H0V0z\" fill=\"none\"/>\n",
              "    <path d=\"M18.56 5.44l.94 2.06.94-2.06 2.06-.94-2.06-.94-.94-2.06-.94 2.06-2.06.94zm-11 1L8.5 8.5l.94-2.06 2.06-.94-2.06-.94L8.5 2.5l-.94 2.06-2.06.94zm10 10l.94 2.06.94-2.06 2.06-.94-2.06-.94-.94-2.06-.94 2.06-2.06.94z\"/><path d=\"M17.41 7.96l-1.37-1.37c-.4-.4-.92-.59-1.43-.59-.52 0-1.04.2-1.43.59L10.3 9.45l-7.72 7.72c-.78.78-.78 2.05 0 2.83L4 21.41c.39.39.9.59 1.41.59.51 0 1.02-.2 1.41-.59l7.78-7.78 2.81-2.81c.8-.78.8-2.07 0-2.86zM5.41 20L4 18.59l7.72-7.72 1.47 1.35L5.41 20z\"/>\n",
              "  </svg>\n",
              "      </button>\n",
              "      \n",
              "  <style>\n",
              "    .colab-df-container {\n",
              "      display:flex;\n",
              "      flex-wrap:wrap;\n",
              "      gap: 12px;\n",
              "    }\n",
              "\n",
              "    .colab-df-convert {\n",
              "      background-color: #E8F0FE;\n",
              "      border: none;\n",
              "      border-radius: 50%;\n",
              "      cursor: pointer;\n",
              "      display: none;\n",
              "      fill: #1967D2;\n",
              "      height: 32px;\n",
              "      padding: 0 0 0 0;\n",
              "      width: 32px;\n",
              "    }\n",
              "\n",
              "    .colab-df-convert:hover {\n",
              "      background-color: #E2EBFA;\n",
              "      box-shadow: 0px 1px 2px rgba(60, 64, 67, 0.3), 0px 1px 3px 1px rgba(60, 64, 67, 0.15);\n",
              "      fill: #174EA6;\n",
              "    }\n",
              "\n",
              "    [theme=dark] .colab-df-convert {\n",
              "      background-color: #3B4455;\n",
              "      fill: #D2E3FC;\n",
              "    }\n",
              "\n",
              "    [theme=dark] .colab-df-convert:hover {\n",
              "      background-color: #434B5C;\n",
              "      box-shadow: 0px 1px 3px 1px rgba(0, 0, 0, 0.15);\n",
              "      filter: drop-shadow(0px 1px 2px rgba(0, 0, 0, 0.3));\n",
              "      fill: #FFFFFF;\n",
              "    }\n",
              "  </style>\n",
              "\n",
              "      <script>\n",
              "        const buttonEl =\n",
              "          document.querySelector('#df-4d381736-d5a6-4f07-9044-853befaef92c button.colab-df-convert');\n",
              "        buttonEl.style.display =\n",
              "          google.colab.kernel.accessAllowed ? 'block' : 'none';\n",
              "\n",
              "        async function convertToInteractive(key) {\n",
              "          const element = document.querySelector('#df-4d381736-d5a6-4f07-9044-853befaef92c');\n",
              "          const dataTable =\n",
              "            await google.colab.kernel.invokeFunction('convertToInteractive',\n",
              "                                                     [key], {});\n",
              "          if (!dataTable) return;\n",
              "\n",
              "          const docLinkHtml = 'Like what you see? Visit the ' +\n",
              "            '<a target=\"_blank\" href=https://colab.research.google.com/notebooks/data_table.ipynb>data table notebook</a>'\n",
              "            + ' to learn more about interactive tables.';\n",
              "          element.innerHTML = '';\n",
              "          dataTable['output_type'] = 'display_data';\n",
              "          await google.colab.output.renderOutput(dataTable, element);\n",
              "          const docLink = document.createElement('div');\n",
              "          docLink.innerHTML = docLinkHtml;\n",
              "          element.appendChild(docLink);\n",
              "        }\n",
              "      </script>\n",
              "    </div>\n",
              "  </div>\n",
              "  "
            ]
          },
          "metadata": {},
          "execution_count": 23
        }
      ],
      "source": [
        "# Create our target\n",
        "y = df.loc[:,target]\n",
        "y"
      ]
    },
    {
      "cell_type": "code",
      "source": [
        "# Check the balance of our target values\n",
        "y.value_counts()"
      ],
      "metadata": {
        "colab": {
          "base_uri": "https://localhost:8080/"
        },
        "id": "bzBVd2HUHkdE",
        "outputId": "c2eabe19-c380-4eb6-e049-a2b8153ac2aa"
      },
      "execution_count": 26,
      "outputs": [
        {
          "output_type": "execute_result",
          "data": {
            "text/plain": [
              "Fatal_Y_N\n",
              "N            1427\n",
              "Y             151\n",
              "dtype: int64"
            ]
          },
          "metadata": {},
          "execution_count": 26
        }
      ]
    },
    {
      "cell_type": "code",
      "execution_count": 28,
      "metadata": {
        "id": "vVsU8eQlsBOT",
        "colab": {
          "base_uri": "https://localhost:8080/"
        },
        "outputId": "64fba453-284b-4a82-bf65-bd49c134e386"
      },
      "outputs": [
        {
          "output_type": "execute_result",
          "data": {
            "text/plain": [
              "(1578, 351)"
            ]
          },
          "metadata": {},
          "execution_count": 28
        }
      ],
      "source": [
        "# Convert string values to numerical with get_dummies method\n",
        "X_encoded = pd.get_dummies(X)\n",
        "X_encoded.shape"
      ]
    },
    {
      "cell_type": "code",
      "source": [
        "# X_endcoded feature matrix\n",
        "from sklearn.preprocessing import StandardScaler\n",
        "data_scaler = StandardScaler()"
      ],
      "metadata": {
        "id": "NSbuB8JdH4PM"
      },
      "execution_count": 29,
      "outputs": []
    },
    {
      "cell_type": "code",
      "source": [
        "# fit and transfrom X_encoded\n",
        "X_encoded_scaled = data_scaler.fit_transform(X_encoded)\n",
        "X_encoded_scaled[:1]"
      ],
      "metadata": {
        "colab": {
          "base_uri": "https://localhost:8080/"
        },
        "id": "W92hXtOBH5pD",
        "outputId": "b40f5ac7-2531-4887-9034-cd5f4a56695a"
      },
      "execution_count": 30,
      "outputs": [
        {
          "output_type": "execute_result",
          "data": {
            "text/plain": [
              "array([[ 1.62467854, -0.22695866, -0.02518165, -0.46848105, -0.1693611 ,\n",
              "        -0.02518165, -0.1713307 , -0.02518165, -0.04364358, -0.06675148,\n",
              "        -0.02518165, -0.06178021, -0.03562352, -0.06675148, -0.1103961 ,\n",
              "        -0.09114115, -0.02518165, -0.09461187, -0.02518165, -0.02518165,\n",
              "        -0.02518165, -0.06178021, -0.03562352, -0.03562352, -0.02518165,\n",
              "        -0.03562352, -0.02518165, -0.02518165, -0.02518165, -0.10120908,\n",
              "        -0.02518165, -0.06178021, -0.12161824, -0.12427395, -0.02518165,\n",
              "        -0.02518165, -0.03562352, -0.07138306, -0.02518165, -0.1344043 ,\n",
              "        -0.05041127, -0.02518165, -0.02518165, -0.05041127, -0.05041127,\n",
              "        -0.26425463, -0.03562352, -0.07573729, -0.03562352, -0.02518165,\n",
              "        -0.02518165, -0.02518165, -0.05637942, -0.05637942, -0.05041127,\n",
              "        -0.02518165, -0.02518165, -0.02518165,  0.93374842, -0.03562352,\n",
              "        -0.05041127, -0.02518165, -0.02518165, -0.02518165, -0.02518165,\n",
              "        -0.09461187, -0.07138306, -0.02518165, -0.02518165, -0.02518165,\n",
              "        -0.02518165, -0.02518165, -0.02518165, -0.03562352, -0.03562352,\n",
              "        -0.03562352, -0.02518165, -0.03562352, -0.02518165, -0.06178021,\n",
              "        -0.02518165, -0.02518165, -0.02518165, -0.02518165, -0.02518165,\n",
              "        -0.02518165, -0.02518165, -0.03562352, -0.22023847, -0.02518165,\n",
              "        -0.04364358, -0.02518165, -0.02518165, -0.02518165, -0.02518165,\n",
              "        -0.02518165, -0.02518165, -0.04364358, -0.02518165, -0.04364358,\n",
              "        -0.02518165, -0.02518165, -0.02518165, -0.02518165, -0.02518165,\n",
              "        -0.02518165, -0.15708381, -0.02518165, -0.03562352, -0.03562352,\n",
              "        -0.02518165, -0.65425859, -0.05637942, 22.91287847, -0.05637942,\n",
              "        -0.02518165, -0.02518165, -0.02518165, -0.02518165, -0.04364358,\n",
              "        -0.03562352, -0.03562352, -0.04364358, -0.02518165, -0.27239702,\n",
              "        -0.03562352, -0.02518165, -0.05637942, -0.02518165, -0.02518165,\n",
              "        -0.02518165, -0.02518165, -0.02518165, -0.09461187, -0.02518165,\n",
              "        -0.02518165, -0.03562352, -0.04364358, -0.04364358, -0.04364358,\n",
              "        -0.02518165, -0.02518165, -0.03562352, -0.02518165, -0.02518165,\n",
              "        -0.02518165, -0.03562352, -0.02518165, -0.02518165, -0.02518165,\n",
              "        -0.02518165, -0.02518165, -0.02518165, -0.02518165, -0.02518165,\n",
              "        -0.02518165, -0.04364358, -0.02518165, -0.02518165, -0.02518165,\n",
              "        -0.03562352, -0.29075089, -0.18642451, -0.07138306, -0.02518165,\n",
              "        -0.07138306, -0.02518165, -0.03562352, -0.02518165, -0.02518165,\n",
              "        -0.02518165, -0.09461187, -0.02518165, -0.02518165, -0.14839382,\n",
              "        -0.02518165, -0.03562352, -0.02518165, -0.02518165, -0.1713307 ,\n",
              "        -0.06178021, -0.02518165, -0.03562352, -0.02518165, -0.02518165,\n",
              "        -0.02518165, -0.03562352, -0.02518165, -0.02518165, -0.02518165,\n",
              "        -0.02518165, -0.03562352, -0.02518165, -0.04364358, -0.04364358,\n",
              "        -0.03562352, -0.02518165, -0.03562352, -0.02518165, -0.02518165,\n",
              "        -0.02518165, -0.02518165, -0.02518165, -0.02518165, -0.02518165,\n",
              "        -0.02518165, -0.04364358, -0.02518165, -0.06178021, -0.11890676,\n",
              "        -0.20392194, -0.02518165, -0.02518165, -0.02518165, -0.07985957,\n",
              "        -0.02518165, -0.05041127, -0.06178021, -0.02518165, -0.02518165,\n",
              "        -0.04364358, -0.02518165, -0.02518165, -0.02518165, -0.05041127,\n",
              "        -0.04364358, -0.02518165, -0.02518165, -0.1344043 , -0.02518165,\n",
              "        -0.02518165, -0.02518165, -0.03562352, -0.02518165, -0.02518165,\n",
              "        -0.03562352, -0.10435734, -0.03562352, -0.04364358, -0.02518165,\n",
              "        -0.02518165, -0.02518165, -0.02518165, -0.02518165, -0.21221007,\n",
              "        -0.1713307 , -0.03562352, -0.02518165, -0.03562352, -0.17712298,\n",
              "        -1.00126823, -0.33473981, -0.31930441,  1.66046465, -0.20392194,\n",
              "         2.12998641, -1.98663244, -0.03562352, -0.14387   , -0.48749057,\n",
              "        -0.12427395,  8.82609767, -0.13193985, -0.02518165, -0.13682747,\n",
              "        -0.15708381, -0.18089365, -0.1713307 , -0.15918898, -0.16737093,\n",
              "        -0.02518165, -0.02518165, -0.16332588, -0.16737093, -0.04364358,\n",
              "        -0.15495284, -0.15279497, -0.11330036, -0.14614795, -0.13921151,\n",
              "        -0.14839382, -0.1103961 , -0.14155841, -0.13682747, -0.02518165,\n",
              "        -0.11890676, -0.02518165, -0.05637942, -0.11613559, -0.12427395,\n",
              "        -0.08753762, -0.02518165, -0.1103961 , -0.13193985, -0.09796392,\n",
              "        -0.1268774 , -0.10435734, -0.08753762, -0.1344043 , -0.03562352,\n",
              "        -0.10435734, -0.10435734, -0.10435734, -0.09461187, -0.09114115,\n",
              "        -0.09461187, -0.09796392, -0.10120908, -0.09461187, -0.04364358,\n",
              "        -0.11613559, -0.02518165, -0.08378415, -0.11330036, -0.05041127,\n",
              "        -0.08753762, -0.09796392, -0.06178021, -0.05637942, -0.08378415,\n",
              "        -0.06178021, -0.07573729, -0.07138306, -0.02518165, -0.07138306,\n",
              "        -0.04364358, -0.05637942, -0.04364358, -0.04364358, -0.04364358,\n",
              "        -0.05637942, -0.06675148, -0.08378415, -0.05041127, -0.03562352,\n",
              "        -0.02518165, -0.02518165, -0.02518165, -0.07573729, -0.02518165,\n",
              "        -0.02518165, -0.02518165, -0.1103961 , -0.06178021, -0.05637942,\n",
              "         0.77695466, -0.77695466, -0.57100825, -0.50632937,  1.25635639,\n",
              "        -0.44005226]])"
            ]
          },
          "metadata": {},
          "execution_count": 30
        }
      ]
    },
    {
      "cell_type": "code",
      "execution_count": 31,
      "metadata": {
        "id": "s22ZXEmqsJG_",
        "colab": {
          "base_uri": "https://localhost:8080/"
        },
        "outputId": "5a344957-204b-4ee0-dfb6-94141ce116b8"
      },
      "outputs": [
        {
          "output_type": "execute_result",
          "data": {
            "text/plain": [
              "array([[ 0.68495904, -1.20193351, -0.02518165, ...,  1.97499902,\n",
              "        -0.79595249, -0.44005226],\n",
              "       [-0.63064825, -0.22695866, -0.02518165, ..., -0.50632937,\n",
              "         1.25635639, -0.44005226],\n",
              "       [-0.25476046,  1.72299104, -0.02518165, ..., -0.50632937,\n",
              "         1.25635639, -0.44005226],\n",
              "       ...,\n",
              "       [-0.63064825,  0.09803296, -0.02518165, ..., -0.50632937,\n",
              "         1.25635639, -0.44005226],\n",
              "       [ 1.24879074, -1.85191674, -0.02518165, ..., -0.50632937,\n",
              "        -0.79595249,  2.27245737],\n",
              "       [-0.63064825,  1.72299104, -0.02518165, ..., -0.50632937,\n",
              "        -0.79595249,  2.27245737]])"
            ]
          },
          "metadata": {},
          "execution_count": 31
        }
      ],
      "source": [
        "# from sklearn.model_selection import train_test_split\n",
        "X_train, X_test, y_train, y_test = train_test_split(X_encoded_scaled, y, random_state = 1)\n",
        "X_train"
      ]
    },
    {
      "cell_type": "code",
      "execution_count": 32,
      "metadata": {
        "id": "sQUUvqaisMIv",
        "colab": {
          "base_uri": "https://localhost:8080/"
        },
        "outputId": "626dae82-3cfb-4ab8-fc62-43bd99fd529a"
      },
      "outputs": [
        {
          "output_type": "execute_result",
          "data": {
            "text/plain": [
              "Fatal_Y_N\n",
              "N            1071\n",
              "Y             112\n",
              "dtype: int64"
            ]
          },
          "metadata": {},
          "execution_count": 32
        }
      ],
      "source": [
        "y_train.value_counts()"
      ]
    },
    {
      "cell_type": "code",
      "source": [
        "# get a baseline \n",
        "# Calculate the accuracy score of the model.\n",
        "# Generate a confusion matrix.\n",
        "# classification report .ing logistics regression\n",
        "# imbalanced classification report .ing logistics regression\n",
        "\n",
        "# Model\n",
        "# Fit\n",
        "# Access"
      ],
      "metadata": {
        "id": "iCDjgxWZIaT7"
      },
      "execution_count": 33,
      "outputs": []
    },
    {
      "cell_type": "code",
      "source": [
        "# Instantiate a logistic regression model\n",
        "#from sklearn.linear_model import LogisticRegression\n",
        "classifier = LogisticRegression(solver='lbfgs', random_state=1)\n",
        "classifier"
      ],
      "metadata": {
        "colab": {
          "base_uri": "https://localhost:8080/"
        },
        "id": "BT6WEqIJIgq8",
        "outputId": "7a9b1c8e-8bc4-47d2-a04c-66fe41e85d17"
      },
      "execution_count": 34,
      "outputs": [
        {
          "output_type": "execute_result",
          "data": {
            "text/plain": [
              "LogisticRegression(random_state=1)"
            ]
          },
          "metadata": {},
          "execution_count": 34
        }
      ]
    },
    {
      "cell_type": "code",
      "source": [
        "# Fit our model with the training data\n",
        "classifier.fit(X_train, y_train)"
      ],
      "metadata": {
        "colab": {
          "base_uri": "https://localhost:8080/"
        },
        "id": "GytUaUb-IpI3",
        "outputId": "9b1cfbc8-c11d-431c-89e9-56052e500c6e"
      },
      "execution_count": 35,
      "outputs": [
        {
          "output_type": "stream",
          "name": "stderr",
          "text": [
            "/usr/local/lib/python3.7/dist-packages/sklearn/utils/validation.py:993: DataConversionWarning: A column-vector y was passed when a 1d array was expected. Please change the shape of y to (n_samples, ), for example using ravel().\n",
            "  y = column_or_1d(y, warn=True)\n"
          ]
        },
        {
          "output_type": "execute_result",
          "data": {
            "text/plain": [
              "LogisticRegression(random_state=1)"
            ]
          },
          "metadata": {},
          "execution_count": 35
        }
      ]
    },
    {
      "cell_type": "code",
      "source": [
        "# Create prediction using predict() method\n",
        "y_pred = classifier.predict(X_test)\n",
        "y_pred"
      ],
      "metadata": {
        "colab": {
          "base_uri": "https://localhost:8080/"
        },
        "id": "oTYaMjXIIxQK",
        "outputId": "c048dfca-c6cc-4339-93e1-6123e2efeefc"
      },
      "execution_count": 36,
      "outputs": [
        {
          "output_type": "execute_result",
          "data": {
            "text/plain": [
              "array(['N', 'N', 'N', 'N', 'N', 'N', 'N', 'N', 'N', 'N', 'N', 'N', 'N',\n",
              "       'N', 'N', 'N', 'N', 'N', 'N', 'N', 'N', 'N', 'Y', 'N', 'N', 'N',\n",
              "       'N', 'N', 'N', 'N', 'N', 'N', 'N', 'N', 'N', 'N', 'N', 'N', 'N',\n",
              "       'N', 'N', 'N', 'N', 'N', 'N', 'Y', 'N', 'N', 'N', 'N', 'Y', 'N',\n",
              "       'N', 'N', 'N', 'N', 'N', 'N', 'N', 'N', 'N', 'N', 'N', 'N', 'N',\n",
              "       'N', 'Y', 'N', 'N', 'N', 'N', 'N', 'N', 'N', 'N', 'N', 'N', 'N',\n",
              "       'N', 'N', 'N', 'N', 'N', 'N', 'N', 'N', 'N', 'N', 'N', 'Y', 'N',\n",
              "       'N', 'N', 'N', 'Y', 'N', 'N', 'N', 'N', 'N', 'N', 'N', 'N', 'N',\n",
              "       'N', 'N', 'N', 'Y', 'N', 'N', 'N', 'N', 'N', 'Y', 'N', 'N', 'N',\n",
              "       'N', 'N', 'N', 'Y', 'N', 'Y', 'N', 'N', 'N', 'N', 'N', 'N', 'N',\n",
              "       'N', 'N', 'N', 'N', 'N', 'N', 'N', 'N', 'N', 'N', 'Y', 'N', 'N',\n",
              "       'N', 'N', 'N', 'N', 'N', 'N', 'N', 'N', 'N', 'N', 'N', 'N', 'N',\n",
              "       'N', 'N', 'N', 'N', 'N', 'N', 'N', 'N', 'Y', 'N', 'N', 'N', 'Y',\n",
              "       'N', 'N', 'N', 'N', 'N', 'N', 'N', 'N', 'N', 'N', 'N', 'N', 'N',\n",
              "       'N', 'N', 'N', 'N', 'N', 'N', 'N', 'N', 'N', 'N', 'N', 'N', 'N',\n",
              "       'N', 'N', 'N', 'N', 'N', 'N', 'N', 'Y', 'N', 'N', 'N', 'N', 'N',\n",
              "       'N', 'N', 'N', 'N', 'N', 'N', 'N', 'N', 'N', 'N', 'N', 'N', 'N',\n",
              "       'N', 'N', 'N', 'N', 'N', 'N', 'N', 'N', 'N', 'N', 'N', 'N', 'N',\n",
              "       'Y', 'N', 'N', 'N', 'N', 'N', 'N', 'N', 'N', 'N', 'N', 'N', 'N',\n",
              "       'N', 'N', 'N', 'N', 'N', 'N', 'N', 'N', 'N', 'N', 'N', 'N', 'N',\n",
              "       'N', 'N', 'Y', 'N', 'N', 'Y', 'Y', 'N', 'N', 'N', 'N', 'N', 'N',\n",
              "       'N', 'N', 'N', 'Y', 'N', 'N', 'N', 'N', 'N', 'N', 'N', 'N', 'Y',\n",
              "       'N', 'N', 'N', 'N', 'N', 'Y', 'N', 'N', 'N', 'N', 'N', 'N', 'N',\n",
              "       'N', 'N', 'N', 'N', 'N', 'N', 'N', 'Y', 'N', 'Y', 'N', 'N', 'N',\n",
              "       'N', 'N', 'N', 'N', 'N', 'N', 'N', 'N', 'N', 'Y', 'N', 'Y', 'N',\n",
              "       'N', 'N', 'N', 'N', 'N', 'N', 'N', 'N', 'N', 'N', 'N', 'N', 'N',\n",
              "       'N', 'N', 'N', 'N', 'N', 'N', 'N', 'N', 'Y', 'N', 'N', 'N', 'N',\n",
              "       'N', 'N', 'N', 'N', 'N', 'N', 'N', 'N', 'N', 'N', 'Y', 'N', 'Y',\n",
              "       'N', 'N', 'N', 'N', 'N', 'N', 'N', 'N', 'N', 'N', 'N', 'N', 'N',\n",
              "       'N', 'N', 'N', 'N', 'N', 'N', 'N', 'N', 'N', 'N', 'N', 'N', 'N',\n",
              "       'N', 'N', 'N', 'N', 'N'], dtype=object)"
            ]
          },
          "metadata": {},
          "execution_count": 36
        }
      ]
    },
    {
      "cell_type": "code",
      "source": [
        "# calculate accuracy\n",
        "# from sklearn.metrics import accuracy_score\n",
        "accuracy_score(y_test, y_pred)"
      ],
      "metadata": {
        "colab": {
          "base_uri": "https://localhost:8080/"
        },
        "id": "lzts4EXMIy9Q",
        "outputId": "7822a4c5-76e6-4a9d-cce8-d6d710858f0b"
      },
      "execution_count": 37,
      "outputs": [
        {
          "output_type": "execute_result",
          "data": {
            "text/plain": [
              "0.8759493670886076"
            ]
          },
          "metadata": {},
          "execution_count": 37
        }
      ]
    },
    {
      "cell_type": "code",
      "source": [
        "# create a confusion matrix\n",
        "from sklearn.metrics import confusion_matrix, classification_report\n",
        "cm = confusion_matrix(y_test, y_pred)\n",
        "print(cm)"
      ],
      "metadata": {
        "colab": {
          "base_uri": "https://localhost:8080/"
        },
        "id": "Q49lkqlUI64i",
        "outputId": "9cb529e4-063b-441d-abb0-a311408eb1ee"
      },
      "execution_count": 38,
      "outputs": [
        {
          "output_type": "stream",
          "name": "stdout",
          "text": [
            "[[337  19]\n",
            " [ 30   9]]\n"
          ]
        }
      ]
    },
    {
      "cell_type": "code",
      "source": [
        "# confusion matrix with ConfusionMatrixDisply\n",
        "disp = ConfusionMatrixDisplay(confusion_matrix=cm, display_labels= classifier.classes_)\n",
        "disp.plot()\n"
      ],
      "metadata": {
        "colab": {
          "base_uri": "https://localhost:8080/",
          "height": 315
        },
        "id": "yX5poe2sI-uY",
        "outputId": "3f4c306c-3cbf-45fd-e092-d074caa594e0"
      },
      "execution_count": 39,
      "outputs": [
        {
          "output_type": "execute_result",
          "data": {
            "text/plain": [
              "<sklearn.metrics._plot.confusion_matrix.ConfusionMatrixDisplay at 0x7f6849bfe7d0>"
            ]
          },
          "metadata": {},
          "execution_count": 39
        },
        {
          "output_type": "display_data",
          "data": {
            "text/plain": [
              "<Figure size 432x288 with 2 Axes>"
            ],
            "image/png": "[encoded data removed]"
          },
          "metadata": {
            "needs_background": "light"
          }
        }
      ]
    },
    {
      "cell_type": "code",
      "source": [
        "# view classification report\n",
        "report = classification_report(y_test, y_pred)\n",
        "print(report)"
      ],
      "metadata": {
        "colab": {
          "base_uri": "https://localhost:8080/"
        },
        "id": "Q493ItQiJFIQ",
        "outputId": "3f641b27-0e69-41b2-9fff-5b120fbd11a4"
      },
      "execution_count": 40,
      "outputs": [
        {
          "output_type": "stream",
          "name": "stdout",
          "text": [
            "              precision    recall  f1-score   support\n",
            "\n",
            "           N       0.92      0.95      0.93       356\n",
            "           Y       0.32      0.23      0.27        39\n",
            "\n",
            "    accuracy                           0.88       395\n",
            "   macro avg       0.62      0.59      0.60       395\n",
            "weighted avg       0.86      0.88      0.87       395\n",
            "\n"
          ]
        }
      ]
    },
    {
      "cell_type": "markdown",
      "metadata": {
        "id": "ENFyRJsJsX1u"
      },
      "source": [
        " ## Random Forest Classifier"
      ]
    },
    {
      "cell_type": "code",
      "execution_count": 41,
      "metadata": {
        "id": "yPCr1MTksalf",
        "colab": {
          "base_uri": "https://localhost:8080/"
        },
        "outputId": "742bee91-a49a-48b0-dd69-b11ca7dffe77"
      },
      "outputs": [
        {
          "output_type": "stream",
          "name": "stderr",
          "text": [
            "/usr/local/lib/python3.7/dist-packages/ipykernel_launcher.py:10: DataConversionWarning: A column-vector y was passed when a 1d array was expected. Please change the shape of y to (n_samples,), for example using ravel().\n",
            "  # Remove the CWD from sys.path while we load stuff.\n"
          ]
        }
      ],
      "source": [
        "# Resample the training data with the BalancedRandomForestClassifier\n",
        "\n",
        "from sklearn.ensemble import RandomForestClassifier\n",
        "from imblearn.metrics import classification_report_imbalanced\n",
        "from imblearn.ensemble import EasyEnsembleClassifier\n",
        "# model\n",
        "rf_model = RandomForestClassifier(n_estimators=100, random_state=1)\n",
        "\n",
        "# fit\n",
        "rf_model = rf_model.fit(X_train, y_train)\n",
        "\n",
        "# predict\n",
        "predictions = rf_model.predict(X_test)"
      ]
    },
    {
      "cell_type": "code",
      "execution_count": 42,
      "metadata": {
        "id": "8CG4L3pSseUB",
        "colab": {
          "base_uri": "https://localhost:8080/"
        },
        "outputId": "cb843e3f-3fa9-4488-ad66-2d4f7ad6850f"
      },
      "outputs": [
        {
          "output_type": "execute_result",
          "data": {
            "text/plain": [
              "0.9012658227848102"
            ]
          },
          "metadata": {},
          "execution_count": 42
        }
      ],
      "source": [
        "# Calculated the accuracy score\n",
        "\n",
        "from sklearn.metrics import accuracy_score\n",
        "from sklearn.metrics import confusion_matrix, accuracy_score, classification_report\n",
        "\n",
        "y_pred = rf_model.predict(X_test)\n",
        "accuracy_score(y_test, y_pred)"
      ]
    },
    {
      "cell_type": "code",
      "execution_count": 43,
      "metadata": {
        "id": "jsZrMW3wsh-f",
        "colab": {
          "base_uri": "https://localhost:8080/"
        },
        "outputId": "2d338d98-4e92-4fbe-83e3-ed567de61f69"
      },
      "outputs": [
        {
          "output_type": "execute_result",
          "data": {
            "text/plain": [
              "array([[353,   3],\n",
              "       [ 36,   3]])"
            ]
          },
          "metadata": {},
          "execution_count": 43
        }
      ],
      "source": [
        "# Display the confusion matrix\n",
        "\n",
        "cm = confusion_matrix(y_test, predictions)\n",
        "cm"
      ]
    },
    {
      "cell_type": "code",
      "source": [
        "# confusion matrix with ConfusionMatrixDisply\n",
        "disp = ConfusionMatrixDisplay(confusion_matrix=cm, display_labels= classifier.classes_)\n",
        "disp.plot()\n"
      ],
      "metadata": {
        "colab": {
          "base_uri": "https://localhost:8080/",
          "height": 317
        },
        "id": "hwNLLRqFJYV9",
        "outputId": "c226cb1f-aa38-4534-81ec-d16e58f4a37a"
      },
      "execution_count": 45,
      "outputs": [
        {
          "output_type": "execute_result",
          "data": {
            "text/plain": [
              "<sklearn.metrics._plot.confusion_matrix.ConfusionMatrixDisplay at 0x7f68472f48d0>"
            ]
          },
          "metadata": {},
          "execution_count": 45
        },
        {
          "output_type": "display_data",
          "data": {
            "text/plain": [
              "<Figure size 432x288 with 2 Axes>"
            ],
            "image/png": "[encoded data removed]"
          },
          "metadata": {
            "needs_background": "light"
          }
        }
      ]
    },
    {
      "cell_type": "code",
      "execution_count": 46,
      "metadata": {
        "id": "MkaMmOWJsmwc",
        "colab": {
          "base_uri": "https://localhost:8080/"
        },
        "outputId": "4073fa56-fab6-4ea4-9976-8baff56d1da2"
      },
      "outputs": [
        {
          "output_type": "stream",
          "name": "stdout",
          "text": [
            "              precision    recall  f1-score   support\n",
            "\n",
            "           N       0.91      0.99      0.95       356\n",
            "           Y       0.50      0.08      0.13        39\n",
            "\n",
            "    accuracy                           0.90       395\n",
            "   macro avg       0.70      0.53      0.54       395\n",
            "weighted avg       0.87      0.90      0.87       395\n",
            "\n"
          ]
        }
      ],
      "source": [
        "# Print the classification report\n",
        "\n",
        "print(classification_report(y_test, y_pred))"
      ]
    },
    {
      "cell_type": "code",
      "execution_count": 47,
      "metadata": {
        "id": "-oDdWulZsr2-",
        "colab": {
          "base_uri": "https://localhost:8080/"
        },
        "outputId": "1c501b62-5681-4a95-cdf8-684692dba8b0"
      },
      "outputs": [
        {
          "output_type": "execute_result",
          "data": {
            "text/plain": [
              "array([8.94812283e-02, 7.30343201e-02, 2.54799436e-03, 1.04547043e-02,\n",
              "       1.97620263e-03, 6.21781596e-05, 1.06851549e-02, 9.57465415e-05,\n",
              "       1.24716171e-05, 4.55383372e-04, 5.13618176e-07, 1.45970337e-03,\n",
              "       3.44211960e-03, 8.97376017e-04, 3.91834267e-03, 9.29143745e-03,\n",
              "       4.91968719e-06, 1.15148675e-03, 2.54526614e-03, 0.00000000e+00,\n",
              "       0.00000000e+00, 2.27485818e-04, 7.55210776e-06, 0.00000000e+00,\n",
              "       0.00000000e+00, 1.16582320e-04, 1.38471376e-05, 8.05539523e-05,\n",
              "       3.35266423e-04, 4.10795696e-03, 0.00000000e+00, 1.47724792e-03,\n",
              "       6.27962688e-03, 3.49412952e-03, 1.10699039e-04, 0.00000000e+00,\n",
              "       0.00000000e+00, 2.81798595e-03, 3.48069249e-05, 9.32857218e-03,\n",
              "       7.08863275e-05, 0.00000000e+00, 8.03372634e-07, 3.54060779e-03,\n",
              "       1.04643075e-04, 1.00433477e-02, 0.00000000e+00, 6.17171715e-05,\n",
              "       3.24491575e-06, 1.16699677e-05, 3.32001010e-03, 0.00000000e+00,\n",
              "       1.33535177e-02, 3.58196537e-03, 2.52310447e-03, 0.00000000e+00,\n",
              "       0.00000000e+00, 5.45991195e-05, 1.99746463e-02, 1.29075595e-03,\n",
              "       1.62846624e-04, 0.00000000e+00, 3.91928142e-06, 1.52542220e-07,\n",
              "       0.00000000e+00, 1.65644318e-04, 3.94348266e-05, 1.50639725e-06,\n",
              "       2.24132687e-05, 7.00317094e-05, 1.08712633e-06, 2.50875307e-06,\n",
              "       0.00000000e+00, 1.77905974e-05, 8.85276516e-06, 1.31049236e-04,\n",
              "       0.00000000e+00, 8.75062453e-05, 4.10561610e-03, 2.64310589e-04,\n",
              "       3.68284476e-04, 0.00000000e+00, 2.74797481e-05, 0.00000000e+00,\n",
              "       2.30070378e-05, 8.04857522e-05, 1.02662500e-04, 5.53430433e-05,\n",
              "       5.05259047e-03, 5.30585505e-06, 6.39944582e-06, 0.00000000e+00,\n",
              "       3.48282550e-06, 3.77278690e-06, 8.40671190e-05, 2.33842607e-03,\n",
              "       0.00000000e+00, 6.95147549e-04, 1.59868443e-04, 4.77469060e-03,\n",
              "       0.00000000e+00, 9.43108809e-06, 0.00000000e+00, 2.15142039e-04,\n",
              "       0.00000000e+00, 5.21504874e-04, 6.92294853e-03, 1.54500240e-04,\n",
              "       1.93394022e-04, 9.71783480e-06, 8.72757311e-05, 1.12366985e-02,\n",
              "       3.83677187e-04, 5.27440280e-05, 5.86620537e-06, 0.00000000e+00,\n",
              "       2.82108316e-03, 9.83112133e-05, 1.21815603e-05, 7.40915665e-08,\n",
              "       2.02941679e-04, 4.24089276e-05, 4.59896423e-03, 2.00636711e-04,\n",
              "       2.82977657e-03, 4.00588820e-03, 4.93849749e-06, 1.58850943e-03,\n",
              "       0.00000000e+00, 0.00000000e+00, 0.00000000e+00, 9.10956991e-07,\n",
              "       1.58177872e-05, 1.27870519e-03, 1.02977186e-04, 2.73672308e-04,\n",
              "       5.86217404e-04, 9.31348042e-05, 2.87002280e-03, 3.06188801e-03,\n",
              "       1.50578926e-05, 1.60545620e-05, 2.13549921e-03, 4.79676217e-04,\n",
              "       0.00000000e+00, 2.01892427e-05, 3.81888750e-07, 1.79156065e-05,\n",
              "       1.07450378e-04, 0.00000000e+00, 6.01765266e-05, 0.00000000e+00,\n",
              "       0.00000000e+00, 4.86082066e-05, 5.46489551e-06, 6.50988970e-05,\n",
              "       8.36415668e-06, 2.32955642e-07, 0.00000000e+00, 0.00000000e+00,\n",
              "       0.00000000e+00, 9.98760103e-03, 2.38490242e-03, 5.17109983e-04,\n",
              "       1.24672166e-05, 3.15763536e-03, 2.65677213e-03, 5.16086188e-05,\n",
              "       6.20457010e-05, 3.56203473e-03, 3.08572988e-03, 1.76663267e-04,\n",
              "       1.70373784e-08, 2.28961189e-04, 1.71454919e-02, 0.00000000e+00,\n",
              "       7.56296512e-03, 0.00000000e+00, 3.42213485e-07, 3.27907005e-03,\n",
              "       1.42995882e-04, 0.00000000e+00, 1.27587083e-04, 7.29260474e-05,\n",
              "       1.88777579e-04, 2.22182019e-04, 1.88588748e-04, 6.26647158e-05,\n",
              "       0.00000000e+00, 0.00000000e+00, 3.50322303e-03, 1.77153896e-04,\n",
              "       4.51065528e-04, 2.75430109e-03, 6.43610877e-03, 3.13689277e-03,\n",
              "       2.68501021e-03, 0.00000000e+00, 3.06543053e-06, 0.00000000e+00,\n",
              "       0.00000000e+00, 0.00000000e+00, 1.17759001e-05, 0.00000000e+00,\n",
              "       7.92268538e-05, 3.39697340e-06, 2.48992318e-04, 4.10457481e-03,\n",
              "       1.15255719e-04, 1.45897413e-02, 2.81035334e-03, 8.15043022e-06,\n",
              "       0.00000000e+00, 0.00000000e+00, 1.98210620e-03, 0.00000000e+00,\n",
              "       2.91582824e-03, 9.78067888e-04, 1.70545063e-04, 0.00000000e+00,\n",
              "       8.43980407e-05, 5.43624007e-05, 0.00000000e+00, 7.34544817e-08,\n",
              "       2.12680059e-03, 8.78750651e-03, 0.00000000e+00, 0.00000000e+00,\n",
              "       3.72169092e-04, 1.52530816e-05, 3.34291349e-03, 2.86507840e-05,\n",
              "       5.23384182e-05, 1.07208967e-07, 2.39552097e-03, 3.78829734e-04,\n",
              "       9.31506433e-04, 4.18493064e-03, 6.45592013e-04, 2.05938765e-06,\n",
              "       0.00000000e+00, 0.00000000e+00, 0.00000000e+00, 4.16084537e-03,\n",
              "       1.00678604e-02, 7.49831969e-03, 1.76718256e-03, 3.46022567e-03,\n",
              "       2.01079567e-03, 1.30599563e-02, 1.95088698e-02, 1.09441500e-02,\n",
              "       1.60888882e-02, 2.46653477e-02, 8.79381445e-03, 1.17720777e-02,\n",
              "       1.13048065e-02, 3.14916529e-05, 4.75232194e-03, 1.59004371e-02,\n",
              "       1.20126118e-03, 2.76982811e-04, 8.46522284e-04, 1.33817173e-08,\n",
              "       1.93299103e-03, 4.70150422e-03, 5.74255677e-03, 1.28932958e-02,\n",
              "       1.16266859e-02, 6.20110366e-03, 2.98863674e-05, 0.00000000e+00,\n",
              "       8.43769878e-03, 6.22372324e-03, 2.88307081e-08, 7.94800894e-03,\n",
              "       9.58633334e-03, 5.71160945e-03, 8.64521059e-03, 1.00735701e-02,\n",
              "       4.19288909e-03, 2.82023051e-03, 6.82093300e-03, 4.38332774e-03,\n",
              "       0.00000000e+00, 3.70047686e-03, 8.19027259e-06, 3.99429530e-05,\n",
              "       1.94144533e-03, 5.91467139e-03, 5.21414172e-03, 1.78912623e-04,\n",
              "       2.36890268e-03, 8.30971809e-03, 4.36330892e-03, 3.25884235e-03,\n",
              "       8.24579479e-03, 9.39404128e-04, 3.11828434e-03, 2.14062664e-04,\n",
              "       4.38160337e-03, 2.66556284e-04, 1.97722399e-03, 8.31091075e-04,\n",
              "       3.15508347e-03, 1.96813787e-03, 1.69336690e-03, 9.88003040e-04,\n",
              "       1.01628833e-02, 9.13028483e-06, 9.94887627e-03, 2.10186994e-07,\n",
              "       2.62687440e-03, 2.04614958e-03, 1.01168815e-04, 2.33505453e-04,\n",
              "       6.20847219e-04, 1.39326659e-05, 6.24417560e-03, 1.44844180e-03,\n",
              "       3.55082129e-05, 8.76702473e-05, 1.62480283e-03, 1.23619340e-06,\n",
              "       2.76420337e-04, 4.43370632e-04, 2.03246632e-04, 4.12425460e-07,\n",
              "       4.65474176e-03, 8.16096339e-03, 1.28966647e-04, 1.49239323e-03,\n",
              "       1.08090770e-03, 3.18583479e-03, 1.27507896e-04, 2.08397382e-05,\n",
              "       0.00000000e+00, 0.00000000e+00, 7.14727273e-05, 2.81736785e-05,\n",
              "       5.24469046e-03, 2.54136538e-07, 9.29043397e-04, 3.14130354e-04,\n",
              "       3.70359251e-04, 1.79148926e-02, 1.91903930e-02, 1.64477495e-02,\n",
              "       1.54408301e-02, 1.45866305e-02, 1.56622536e-02])"
            ]
          },
          "metadata": {},
          "execution_count": 47
        }
      ],
      "source": [
        "# List the features sorted in descending order by feature importance\n",
        "\n",
        "importances = rf_model.feature_importances_\n",
        "importances"
      ]
    },
    {
      "cell_type": "code",
      "source": [
        "# We can sort the features by their importance.\n",
        "sorted(zip(rf_model.feature_importances_, X.columns), reverse=True)"
      ],
      "metadata": {
        "colab": {
          "base_uri": "https://localhost:8080/"
        },
        "id": "37HS-vseJ3XD",
        "outputId": "dcace925-b404-4f7b-95d3-37873eb5aff0"
      },
      "execution_count": 48,
      "outputs": [
        {
          "output_type": "execute_result",
          "data": {
            "text/plain": [
              "[(0.08948122827563576, 'Country'),\n",
              " (0.0730343200645641, 'Year'),\n",
              " (0.010685154923412644, 'month'),\n",
              " (0.010454704264002343, 'Activity'),\n",
              " (0.002547994358848863, 'Area'),\n",
              " (0.001976202634330069, 'Sex'),\n",
              " (9.574654150216353e-05, 'hemisph'),\n",
              " (6.217815964898296e-05, 'Age'),\n",
              " (1.2471617105391044e-05, 'Season')]"
            ]
          },
          "metadata": {},
          "execution_count": 48
        }
      ]
    },
    {
      "cell_type": "code",
      "source": [],
      "metadata": {
        "id": "p-xsxDzrJ5KX"
      },
      "execution_count": null,
      "outputs": []
    }
  ],
  "metadata": {
    "colab": {
      "collapsed_sections": [],
      "provenance": []
    },
    "kernelspec": {
      "display_name": "Python 3",
      "name": "python3"
    },
    "language_info": {
      "name": "python"
    }
  },
  "nbformat": 4,
  "nbformat_minor": 0
}